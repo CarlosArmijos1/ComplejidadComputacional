{
  "nbformat": 4,
  "nbformat_minor": 0,
  "metadata": {
    "colab": {
      "name": "Ejercicios.ipynb",
      "provenance": []
    },
    "kernelspec": {
      "name": "python3",
      "display_name": "Python 3"
    },
    "language_info": {
      "name": "python"
    }
  },
  "cells": [
    {
      "cell_type": "code",
      "execution_count": 4,
      "metadata": {
        "colab": {
          "base_uri": "https://localhost:8080/"
        },
        "id": "DLnkQi-USFAV",
        "outputId": "69987ab6-383a-4eb1-9d77-b6231de30f14"
      },
      "outputs": [
        {
          "output_type": "stream",
          "name": "stdout",
          "text": [
            "1000000    -    0.05747628211975098\n",
            "500000500000.0    -    7.3909759521484375e-06\n",
            "10000000    -    0.5909740924835205\n",
            "50000005000000.0    -    6.67572021484375e-06\n",
            "100000000    -    5.564815998077393\n",
            "5000000050000000.0    -    6.67572021484375e-06\n",
            "1000000000    -    54.846460819244385\n",
            "5.000000005e+17    -    6.4373016357421875e-06\n"
          ]
        }
      ],
      "source": [
        "\n",
        "import time\n",
        "\n",
        "def suma_lineal(n):\n",
        "  suma =0\n",
        "  for i in range (1, n+1):\n",
        "    suma += 1\n",
        "  return suma\n",
        "\n",
        "def suma_constante(n):\n",
        "  return (n/2) *(n+1)\n",
        "\n",
        "cantidad=1000000\n",
        "\n",
        "for i in range(4):\n",
        "  t0= time.time()\n",
        "  suma1= suma_lineal(cantidad)\n",
        "  t1=time.time()\n",
        "  suma2=suma_constante(cantidad)\n",
        "  t2=time.time()\n",
        "\n",
        "  print(\"{}    -    {}\".format(suma1, t1-t0))\n",
        "  print(\"{}    -    {}\".format(suma2, t2-t1))\n",
        "  cantidad *= 10"
      ]
    },
    {
      "cell_type": "code",
      "source": [
        "\n",
        "lista_datos = [14, 26, 39, 25, 11, 18, 42, 31, 17, 23]\n",
        "dato_buscado= 199\n",
        "\n",
        "def busqueda_lineal(lista, buscar):\n",
        "  for elemento in lista:\n",
        "    if elemento == buscar:\n",
        "      return True\n",
        "  return False\n",
        "\n",
        "if busqueda_lineal(lista_datos, dato_buscado):\n",
        "  print (\"Dato encontrado\")\n",
        "else:\n",
        "  print(\"Dato no encontrado\")"
      ],
      "metadata": {
        "colab": {
          "base_uri": "https://localhost:8080/"
        },
        "id": "h0ekZjJnWBwa",
        "outputId": "7c53c4d5-6dff-4bd7-f6d6-540a6b32db9b"
      },
      "execution_count": 18,
      "outputs": [
        {
          "output_type": "stream",
          "name": "stdout",
          "text": [
            "Dato no encontrado\n"
          ]
        }
      ]
    },
    {
      "cell_type": "code",
      "source": [
        "\n",
        "cantidades= [12, 23, 41, 36, 28, 54, 35, 46, 52, 19, 27]\n",
        "numero = 74\n",
        "\n",
        "def suma_dos(lista, valor):\n",
        "\n",
        "  pares=[]\n",
        "  for i in lista:\n",
        "    for j in lista:\n",
        "      if i +j ==valor:\n",
        "        pares.append([i,j])\n",
        "  return pares\n",
        "print(suma_dos(cantidades, numero))"
      ],
      "metadata": {
        "colab": {
          "base_uri": "https://localhost:8080/"
        },
        "id": "j2qQJdpBXsn-",
        "outputId": "51a2d71b-b152-414a-e3f2-83a8e951cd98"
      },
      "execution_count": 19,
      "outputs": [
        {
          "output_type": "stream",
          "name": "stdout",
          "text": [
            "[[28, 46], [46, 28]]\n"
          ]
        }
      ]
    },
    {
      "cell_type": "code",
      "source": [
        "\n",
        "cantidades= [12, 23, 41, 36, 28, 54, 35, 46, 52, 19, 27]\n",
        "numero = 74\n",
        "\n",
        "def suma_tres(lista, valor):\n",
        "\n",
        "  trios=[]\n",
        "  for i in lista:\n",
        "    for j in lista:\n",
        "      for k in lista:\n",
        "         if i +j+k==valor:\n",
        "            trios.append([i,j,k])\n",
        "  return trios\n",
        "        \n",
        "     \n",
        "print(suma_tres(cantidades, numero))"
      ],
      "metadata": {
        "colab": {
          "base_uri": "https://localhost:8080/"
        },
        "id": "jV3I55RpYcoy",
        "outputId": "2183864b-4265-4cf4-97e4-e63ce190b76c"
      },
      "execution_count": 21,
      "outputs": [
        {
          "output_type": "stream",
          "name": "stdout",
          "text": [
            "[[12, 35, 27], [12, 27, 35], [23, 23, 28], [23, 28, 23], [36, 19, 19], [28, 23, 23], [28, 19, 27], [28, 27, 19], [35, 12, 27], [35, 27, 12], [19, 36, 19], [19, 28, 27], [19, 19, 36], [19, 27, 28], [27, 12, 35], [27, 28, 19], [27, 35, 12], [27, 19, 28]]\n"
          ]
        }
      ]
    },
    {
      "cell_type": "code",
      "source": [
        "#Algoritmo O(n**2)\n",
        "def extraccion_1(vehiculos, ruedas):\n",
        "  for coches in range(vehiculos+1):\n",
        "    for motos in range (vehiculos+1):\n",
        "      if((coches+motos)==vehiculos)and ((coches*4 + motos*2)==ruedas):\n",
        "        return coches, motos\n",
        "  return None"
      ],
      "metadata": {
        "id": "a6DsaXw0Y36h"
      },
      "execution_count": 22,
      "outputs": []
    },
    {
      "cell_type": "code",
      "source": [
        "#Algoritmo O(n)\n",
        "def extraccion_2(vehiculos, ruedas):\n",
        "  for coches in range(vehiculos+1):\n",
        "    motos=vehiculos-coches\n",
        "    if coches*4 +motos*2==ruedas:\n",
        "      return coches, motos\n",
        "  return None"
      ],
      "metadata": {
        "id": "oTXCQZJKZZsL"
      },
      "execution_count": 23,
      "outputs": []
    },
    {
      "cell_type": "code",
      "source": [
        "#Algoritmo O(1)\n",
        "def extraccion_3(vehiculos, ruedas):\n",
        "\n",
        "    coches =ruedas/2-vehiculos\n",
        "    motos=vehiculos-coches\n",
        "    if int(coches) + int(motos)==vehiculos:\n",
        "      return int(coches), int(motos)\n",
        "    else:\n",
        "      return None"
      ],
      "metadata": {
        "id": "Bg1yHs_rZ3Fb"
      },
      "execution_count": 24,
      "outputs": []
    },
    {
      "cell_type": "code",
      "source": [
        "datos= [2,3,5,6,8,11,12,15,17,18,21,23,24,29,30]\n",
        "buscado=28\n",
        "\n",
        "def busqueda_binaria(lista, elemento):\n",
        "\n",
        "  inicio=0\n",
        "  final= len(lista)-1\n",
        "\n",
        "  \n",
        "  while inicio <=final:\n",
        "    medio=(inicio+final)//2\n",
        "    if lista[medio]==elemento:\n",
        "      return True\n",
        "    elif lista[medio]<elemento:\n",
        "     inicio= medio+1\n",
        "    elif lista[medio]>elemento:\n",
        "      final=medio-1\n",
        "  return False\n",
        "\n",
        "print(busqueda_binaria(datos, buscado))"
      ],
      "metadata": {
        "colab": {
          "base_uri": "https://localhost:8080/"
        },
        "id": "VubqmSYwaPhY",
        "outputId": "c348bc05-9391-424a-abc4-394fe4739132"
      },
      "execution_count": 28,
      "outputs": [
        {
          "output_type": "stream",
          "name": "stdout",
          "text": [
            "False\n"
          ]
        }
      ]
    },
    {
      "cell_type": "code",
      "source": [
        "datos=[]\n",
        "for i in range(15000000):\n",
        "  datos.append(i)\n",
        "\n",
        "def busqueda_binaria(lista, elemento):\n",
        "  pasos=0\n",
        "  inicio=0\n",
        "  final= len(lista)-1\n",
        "\n",
        "  while inicio <=final:\n",
        "    pasos+=1\n",
        "    medio=(inicio+final)//2\n",
        "    if lista[medio]==elemento:\n",
        "      return True, pasos\n",
        "    elif lista[medio]<elemento:\n",
        "     inicio= medio+1\n",
        "    elif lista[medio]>elemento:\n",
        "      final=medio-1\n",
        "  return False, pasos\n",
        "\n",
        "print(busqueda_binaria(datos, 12347))\n",
        "\n"
      ],
      "metadata": {
        "colab": {
          "base_uri": "https://localhost:8080/"
        },
        "id": "hWhaz1fJbzIg",
        "outputId": "c71dfb2d-943d-48bd-cc9e-bdc5ab197aa5"
      },
      "execution_count": 35,
      "outputs": [
        {
          "output_type": "stream",
          "name": "stdout",
          "text": [
            "(True, 24)\n"
          ]
        }
      ]
    },
    {
      "cell_type": "code",
      "source": [
        "import random\n",
        "censo=[]\n",
        "alfabeto=\"ABCDEFGIJAEIOULMNOPRSTAUEIOU\"\n",
        "numero=0\n",
        "\n",
        "print(\"Creando censo.....\")\n",
        "def busqueda_numero(lista, elemento):\n",
        "  inicio=0\n",
        "  final= len(lista)-1\n",
        "\n",
        "  while inicio <=final:\n",
        "    medio=(inicio+final)//2\n",
        "    if lista[medio]==elemento:\n",
        "      return lista[medio]\n",
        "    elif lista[medio][0]<elemento:\n",
        "     inicio= medio+1\n",
        "    elif lista[medio][0]>elemento:\n",
        "      final=medio-1\n",
        "  return None\n",
        "def busqueda_nombre(lista, elemento):\n",
        "  encontrados=[]\n",
        "\n",
        "  for registro in lista:\n",
        "    if registro[1] == elemento: \n",
        "      encontrados.append(registro)\n",
        "  if len (encontrados==0):\n",
        "    return None\n",
        "  else:\n",
        "    return encontrados\n",
        "\n",
        "def muestra_registro(registro):\n",
        "  if registro== None:\n",
        "    print(\"No existe registro con ese dato\")\n",
        "  else:\n",
        "    print(\"--------------------------\")\n",
        "    print(\"Número: \",registro[0])\n",
        "    print(\"Nombre: \",registro[1])\n",
        "    print(\"Edad: \",registro[2])\n",
        "    print(\"Impuesto: \",registro[3])\n",
        "\n",
        "def menu():\n",
        "  print(\"--------------------------\")\n",
        "  print(\"-CENSO DE POBLACION-\")\n",
        "  print(\"--------------------------\")\n",
        "  print(\"1. Buscar por número\")\n",
        "  print(\"2. Buscar por nombre\")\n",
        "  print(\"3. Salir\")\n",
        "  opcion=\"\"\n",
        "  while opcion not in (\"1\", \"2\", \"3\"):\n",
        "    opcion=input(\"--> \")\n",
        "  return opcion\n",
        "\n",
        "\n",
        "\n",
        "\n",
        "for i in range(500_000):\n",
        "  aumento=random.randint(1,2)\n",
        "  numero+=aumento\n",
        "  letras=random.sample(alfabeto,5)\n",
        "  nombre=\"\".join(letras)\n",
        "  edad=random.randint(18,99)\n",
        "  impuestos=random.choice((True, True, True, False))\n",
        "  censo.append([numero, nombre, edad, impuestos])\n",
        "\n",
        "  if len(censo)% 100_000==0:\n",
        "    print(\"Creados\", len(censo), \"registros\")\n",
        "print(\"Censo Creado.\")\n",
        "print(\"Ultimo registro: \", censo[-1])\n",
        "\n",
        "\n",
        "while True:\n",
        "  op = menu()\n",
        "  if op==\"1\":\n",
        "    try:\n",
        "      numero=int (input(\"Introduce número: \"))\n",
        "    except ValueError:\n",
        "      print(\"Introduce un número entero\")\n",
        "    else:\n",
        "      registro= busqueda_numero(censo, numero)\n",
        "      muestra_registro(registro)\n",
        "\n",
        "  elif op==\"2\":\n",
        "    nombre= input(\"Introduce nombre: \").upper()\n",
        "    registros= busqueda_nombre(censo, nombre)\n",
        "    if registros==None:\n",
        "      print(\"No existe registro con ese dato\")\n",
        "    else:\n",
        "      for registro in registros:\n",
        "        muestra_registro(registro)\n",
        "  elif op==\"3\":\n",
        "      break"
      ],
      "metadata": {
        "colab": {
          "base_uri": "https://localhost:8080/"
        },
        "id": "ep-1UGFMdczW",
        "outputId": "469f1137-143d-46cc-bf69-c982ddf9bec6"
      },
      "execution_count": null,
      "outputs": [
        {
          "name": "stdout",
          "output_type": "stream",
          "text": [
            "Creando censo.....\n",
            "Creados 100000 registros\n",
            "Creados 200000 registros\n",
            "Creados 300000 registros\n",
            "Creados 400000 registros\n",
            "Creados 500000 registros\n",
            "Censo Creado.\n",
            "Ultimo registro:  [750484, 'JNBIO', 91, True]\n",
            "--------------------------\n",
            "-CENSO DE POBLACION-\n",
            "--------------------------\n",
            "1. Buscar por número\n",
            "2. Buscar por nombre\n",
            "3. Salir\n",
            "--> 1\n",
            "Introduce número: 23\n"
          ]
        }
      ]
    }
  ]
}